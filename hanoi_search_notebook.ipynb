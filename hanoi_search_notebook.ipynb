{
 "cells": [
  {
   "cell_type": "markdown",
   "metadata": {},
   "source": [
    "### Necessary imports"
   ]
  },
  {
   "cell_type": "code",
   "execution_count": 1,
   "metadata": {},
   "outputs": [],
   "source": [
    "import sys\n",
    "%load_ext autoreload\n",
    "%autoreload 2\n",
    "sys.path.insert(0, 'hanoi_tower') "
   ]
  },
  {
   "cell_type": "code",
   "execution_count": 2,
   "metadata": {},
   "outputs": [],
   "source": [
    "from hanoi_tower.hanoi_states import StatesHanoi, ProblemHanoi\n",
    "from hanoi_tower.tree_hanoi import NodeHanoi"
   ]
  },
  {
   "cell_type": "markdown",
   "metadata": {},
   "source": [
    "### Initial definitions"
   ]
  },
  {
   "cell_type": "code",
   "execution_count": 23,
   "metadata": {},
   "outputs": [],
   "source": [
    "initial_state = StatesHanoi( [5, 4, 3, 2, 1], [], [], max_disks=5)"
   ]
  },
  {
   "cell_type": "code",
   "execution_count": 24,
   "metadata": {},
   "outputs": [],
   "source": [
    "goal_state = StatesHanoi([], [], [5, 4, 3, 2, 1], max_disks=5)"
   ]
  },
  {
   "cell_type": "code",
   "execution_count": 25,
   "metadata": {},
   "outputs": [],
   "source": [
    "problem_hanoi = ProblemHanoi(initial=initial_state, goal=goal_state)"
   ]
  },
  {
   "cell_type": "code",
   "execution_count": 26,
   "metadata": {},
   "outputs": [
    {
     "name": "stdout",
     "output_type": "stream",
     "text": [
      "HanoiState:  |  | 5 4 3 2 1\n"
     ]
    }
   ],
   "source": [
    "print(problem_hanoi.goal)"
   ]
  },
  {
   "cell_type": "markdown",
   "metadata": {},
   "source": [
    "### Define the search function"
   ]
  },
  {
   "cell_type": "code",
   "execution_count": 27,
   "metadata": {},
   "outputs": [],
   "source": [
    "from queue import LifoQueue\n",
    "\n",
    "def search(problem):\n",
    "    # Create the root node with the initial state\n",
    "    node_root = NodeHanoi(problem.initial)\n",
    "    # Initialize the LIFO queue with the root node\n",
    "    lifo = LifoQueue()\n",
    "    lifo.put(node_root)\n",
    "    # Initialize the set of explored states\n",
    "    explored = set()\n",
    "    # Perform the search\n",
    "    while not lifo.empty():\n",
    "        # Get the next node from the LIFO queue\n",
    "        node = lifo.get()\n",
    "        # Add the current state to the set of explored states\n",
    "        explored.add(node.state)\n",
    "        # Print the current node\n",
    "        print(f'Current node: {node}')\n",
    "        # Check if the goal state is reached\n",
    "        if problem.goal_test(node.state):\n",
    "            return node\n",
    "        # Expand the current node and add the child nodes to the LIFO queue\n",
    "        for child in node.expand(problem):\n",
    "            if child.state not in explored:\n",
    "                lifo.put(child)\n",
    "    \n",
    "    # Return None if no solution is found\n",
    "    return None"
   ]
  },
  {
   "cell_type": "code",
   "execution_count": 28,
   "metadata": {},
   "outputs": [
    {
     "name": "stdout",
     "output_type": "stream",
     "text": [
      "Current node: <Node HanoiState: 5 4 3 2 1 |  | >\n",
      "Current node: <Node HanoiState: 5 4 3 2 |  | 1>\n",
      "Current node: <Node HanoiState: 5 4 3 2 | 1 | >\n",
      "Current node: <Node HanoiState: 5 4 3 | 1 | 2>\n",
      "Current node: <Node HanoiState: 5 4 3 |  | 2 1>\n",
      "Current node: <Node HanoiState: 5 4 3 1 |  | 2>\n",
      "Current node: <Node HanoiState: 5 4 3 1 | 2 | >\n",
      "Current node: <Node HanoiState: 5 4 3 | 2 | 1>\n",
      "Current node: <Node HanoiState: 5 4 3 | 2 1 | >\n",
      "Current node: <Node HanoiState: 5 4 | 2 1 | 3>\n",
      "Current node: <Node HanoiState: 5 4 | 2 | 3 1>\n",
      "Current node: <Node HanoiState: 5 4 1 | 2 | 3>\n",
      "Current node: <Node HanoiState: 5 4 1 |  | 3 2>\n",
      "Current node: <Node HanoiState: 5 4 |  | 3 2 1>\n",
      "Current node: <Node HanoiState: 5 4 | 1 | 3 2>\n",
      "Current node: <Node HanoiState: 5 4 2 | 1 | 3>\n",
      "Current node: <Node HanoiState: 5 4 2 |  | 3 1>\n",
      "Current node: <Node HanoiState: 5 4 2 1 |  | 3>\n",
      "Current node: <Node HanoiState: 5 4 2 1 | 3 | >\n",
      "Current node: <Node HanoiState: 5 4 2 | 3 | 1>\n",
      "Current node: <Node HanoiState: 5 4 2 | 3 1 | >\n",
      "Current node: <Node HanoiState: 5 4 | 3 1 | 2>\n",
      "Current node: <Node HanoiState: 5 4 | 3 | 2 1>\n",
      "Current node: <Node HanoiState: 5 4 1 | 3 | 2>\n",
      "Current node: <Node HanoiState: 5 4 1 | 3 2 | >\n",
      "Current node: <Node HanoiState: 5 4 | 3 2 | 1>\n",
      "Current node: <Node HanoiState: 5 4 | 3 2 1 | >\n",
      "Current node: <Node HanoiState: 5 | 3 2 1 | 4>\n",
      "Current node: <Node HanoiState: 5 | 3 2 | 4 1>\n",
      "Current node: <Node HanoiState: 5 1 | 3 2 | 4>\n",
      "Current node: <Node HanoiState: 5 1 | 3 | 4 2>\n",
      "Current node: <Node HanoiState: 5 | 3 | 4 2 1>\n",
      "Current node: <Node HanoiState: 5 | 3 1 | 4 2>\n",
      "Current node: <Node HanoiState: 5 2 | 3 1 | 4>\n",
      "Current node: <Node HanoiState: 5 2 | 3 | 4 1>\n",
      "Current node: <Node HanoiState: 5 2 1 | 3 | 4>\n",
      "Current node: <Node HanoiState: 5 2 1 |  | 4 3>\n",
      "Current node: <Node HanoiState: 5 2 |  | 4 3 1>\n",
      "Current node: <Node HanoiState: 5 2 | 1 | 4 3>\n",
      "Current node: <Node HanoiState: 5 | 1 | 4 3 2>\n",
      "Current node: <Node HanoiState: 5 |  | 4 3 2 1>\n",
      "Current node: <Node HanoiState: 5 1 |  | 4 3 2>\n",
      "Current node: <Node HanoiState: 5 1 | 2 | 4 3>\n",
      "Current node: <Node HanoiState: 5 | 2 | 4 3 1>\n",
      "Current node: <Node HanoiState: 5 | 2 1 | 4 3>\n",
      "Current node: <Node HanoiState: 5 3 | 2 1 | 4>\n",
      "Current node: <Node HanoiState: 5 3 | 2 | 4 1>\n",
      "Current node: <Node HanoiState: 5 3 1 | 2 | 4>\n",
      "Current node: <Node HanoiState: 5 3 1 |  | 4 2>\n",
      "Current node: <Node HanoiState: 5 3 |  | 4 2 1>\n",
      "Current node: <Node HanoiState: 5 3 | 1 | 4 2>\n",
      "Current node: <Node HanoiState: 5 3 2 | 1 | 4>\n",
      "Current node: <Node HanoiState: 5 3 2 |  | 4 1>\n",
      "Current node: <Node HanoiState: 5 3 2 1 |  | 4>\n",
      "Current node: <Node HanoiState: 5 3 2 1 | 4 | >\n",
      "Current node: <Node HanoiState: 5 3 2 | 4 | 1>\n",
      "Current node: <Node HanoiState: 5 3 2 | 4 1 | >\n",
      "Current node: <Node HanoiState: 5 3 | 4 1 | 2>\n",
      "Current node: <Node HanoiState: 5 3 | 4 | 2 1>\n",
      "Current node: <Node HanoiState: 5 3 1 | 4 | 2>\n",
      "Current node: <Node HanoiState: 5 3 1 | 4 2 | >\n",
      "Current node: <Node HanoiState: 5 3 | 4 2 | 1>\n",
      "Current node: <Node HanoiState: 5 3 | 4 2 1 | >\n",
      "Current node: <Node HanoiState: 5 | 4 2 1 | 3>\n",
      "Current node: <Node HanoiState: 5 | 4 2 | 3 1>\n",
      "Current node: <Node HanoiState: 5 1 | 4 2 | 3>\n",
      "Current node: <Node HanoiState: 5 1 | 4 | 3 2>\n",
      "Current node: <Node HanoiState: 5 | 4 | 3 2 1>\n",
      "Current node: <Node HanoiState: 5 | 4 1 | 3 2>\n",
      "Current node: <Node HanoiState: 5 2 | 4 1 | 3>\n",
      "Current node: <Node HanoiState: 5 2 | 4 | 3 1>\n",
      "Current node: <Node HanoiState: 5 2 1 | 4 | 3>\n",
      "Current node: <Node HanoiState: 5 2 1 | 4 3 | >\n",
      "Current node: <Node HanoiState: 5 2 | 4 3 | 1>\n",
      "Current node: <Node HanoiState: 5 2 | 4 3 1 | >\n",
      "Current node: <Node HanoiState: 5 | 4 3 1 | 2>\n",
      "Current node: <Node HanoiState: 5 | 4 3 | 2 1>\n",
      "Current node: <Node HanoiState: 5 1 | 4 3 | 2>\n",
      "Current node: <Node HanoiState: 5 1 | 4 3 2 | >\n",
      "Current node: <Node HanoiState: 5 | 4 3 2 | 1>\n",
      "Current node: <Node HanoiState: 5 | 4 3 2 1 | >\n",
      "Current node: <Node HanoiState:  | 4 3 2 1 | 5>\n",
      "Current node: <Node HanoiState:  | 4 3 2 | 5 1>\n",
      "Current node: <Node HanoiState: 1 | 4 3 2 | 5>\n",
      "Current node: <Node HanoiState: 1 | 4 3 | 5 2>\n",
      "Current node: <Node HanoiState:  | 4 3 | 5 2 1>\n",
      "Current node: <Node HanoiState:  | 4 3 1 | 5 2>\n",
      "Current node: <Node HanoiState: 2 | 4 3 1 | 5>\n",
      "Current node: <Node HanoiState: 2 | 4 3 | 5 1>\n",
      "Current node: <Node HanoiState: 2 1 | 4 3 | 5>\n",
      "Current node: <Node HanoiState: 2 1 | 4 | 5 3>\n",
      "Current node: <Node HanoiState: 2 | 4 | 5 3 1>\n",
      "Current node: <Node HanoiState: 2 | 4 1 | 5 3>\n",
      "Current node: <Node HanoiState:  | 4 1 | 5 3 2>\n",
      "Current node: <Node HanoiState:  | 4 | 5 3 2 1>\n",
      "Current node: <Node HanoiState: 1 | 4 | 5 3 2>\n",
      "Current node: <Node HanoiState: 1 | 4 2 | 5 3>\n",
      "Current node: <Node HanoiState:  | 4 2 | 5 3 1>\n",
      "Current node: <Node HanoiState:  | 4 2 1 | 5 3>\n",
      "Current node: <Node HanoiState: 3 | 4 2 1 | 5>\n",
      "Current node: <Node HanoiState: 3 | 4 2 | 5 1>\n",
      "Current node: <Node HanoiState: 3 1 | 4 2 | 5>\n",
      "Current node: <Node HanoiState: 3 1 | 4 | 5 2>\n",
      "Current node: <Node HanoiState: 3 | 4 | 5 2 1>\n",
      "Current node: <Node HanoiState: 3 | 4 1 | 5 2>\n",
      "Current node: <Node HanoiState: 3 2 | 4 1 | 5>\n",
      "Current node: <Node HanoiState: 3 2 | 4 | 5 1>\n",
      "Current node: <Node HanoiState: 3 2 1 | 4 | 5>\n",
      "Current node: <Node HanoiState: 3 2 1 |  | 5 4>\n",
      "Current node: <Node HanoiState: 3 2 |  | 5 4 1>\n",
      "Current node: <Node HanoiState: 3 2 | 1 | 5 4>\n",
      "Current node: <Node HanoiState: 3 | 1 | 5 4 2>\n",
      "Current node: <Node HanoiState: 3 |  | 5 4 2 1>\n",
      "Current node: <Node HanoiState: 3 1 |  | 5 4 2>\n",
      "Current node: <Node HanoiState: 3 1 | 2 | 5 4>\n",
      "Current node: <Node HanoiState: 3 | 2 | 5 4 1>\n",
      "Current node: <Node HanoiState: 3 | 2 1 | 5 4>\n",
      "Current node: <Node HanoiState:  | 2 1 | 5 4 3>\n",
      "Current node: <Node HanoiState:  | 2 | 5 4 3 1>\n",
      "Current node: <Node HanoiState: 1 | 2 | 5 4 3>\n",
      "Current node: <Node HanoiState: 1 |  | 5 4 3 2>\n",
      "Current node: <Node HanoiState:  |  | 5 4 3 2 1>\n"
     ]
    }
   ],
   "source": [
    "solution = search(problem_hanoi)"
   ]
  },
  {
   "cell_type": "code",
   "execution_count": 18,
   "metadata": {},
   "outputs": [],
   "source": [
    "solution.generate_solution_for_simulator()"
   ]
  },
  {
   "cell_type": "code",
   "execution_count": 19,
   "metadata": {},
   "outputs": [],
   "source": [
    "%%bash\n",
    "mv initial_state.json hanoi_tower/simulator/initial_state.json\n",
    "mv sequence.json hanoi_tower/simulator/sequence.json"
   ]
  },
  {
   "cell_type": "code",
   "execution_count": null,
   "metadata": {},
   "outputs": [],
   "source": []
  }
 ],
 "metadata": {
  "kernelspec": {
   "display_name": "myEnv",
   "language": "python",
   "name": "python3"
  },
  "language_info": {
   "codemirror_mode": {
    "name": "ipython",
    "version": 3
   },
   "file_extension": ".py",
   "mimetype": "text/x-python",
   "name": "python",
   "nbconvert_exporter": "python",
   "pygments_lexer": "ipython3",
   "version": "3.12.2"
  }
 },
 "nbformat": 4,
 "nbformat_minor": 2
}
