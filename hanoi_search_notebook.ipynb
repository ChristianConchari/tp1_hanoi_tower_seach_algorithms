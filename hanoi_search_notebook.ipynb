{
 "cells": [
  {
   "cell_type": "markdown",
   "metadata": {},
   "source": [
    "### Necessary imports"
   ]
  },
  {
   "cell_type": "code",
   "execution_count": 1,
   "metadata": {},
   "outputs": [],
   "source": [
    "import sys\n",
    "%load_ext autoreload\n",
    "%autoreload 2\n",
    "sys.path.insert(0, 'hanoi_tower') "
   ]
  },
  {
   "cell_type": "code",
   "execution_count": 2,
   "metadata": {},
   "outputs": [],
   "source": [
    "from hanoi_tower.hanoi_states import StatesHanoi, ProblemHanoi\n",
    "from hanoi_tower.tree_hanoi import NodeHanoi"
   ]
  },
  {
   "cell_type": "markdown",
   "metadata": {},
   "source": [
    "### Initial definitions"
   ]
  },
  {
   "cell_type": "code",
   "execution_count": 3,
   "metadata": {},
   "outputs": [],
   "source": [
    "initial_state = StatesHanoi( [5, 4, 3, 2, 1], [], [], max_disks=5)"
   ]
  },
  {
   "cell_type": "code",
   "execution_count": 4,
   "metadata": {},
   "outputs": [],
   "source": [
    "goal_state = StatesHanoi([], [], [5, 4, 3, 2, 1], max_disks=5)"
   ]
  },
  {
   "cell_type": "code",
   "execution_count": 5,
   "metadata": {},
   "outputs": [],
   "source": [
    "problem_hanoi = ProblemHanoi(initial=initial_state, goal=goal_state)"
   ]
  },
  {
   "cell_type": "code",
   "execution_count": 6,
   "metadata": {},
   "outputs": [
    {
     "name": "stdout",
     "output_type": "stream",
     "text": [
      "HanoiState:  |  | 5 4 3 2 1\n"
     ]
    }
   ],
   "source": [
    "print(problem_hanoi.goal)"
   ]
  },
  {
   "cell_type": "markdown",
   "metadata": {},
   "source": [
    "### Memory and Time measurement"
   ]
  },
  {
   "cell_type": "code",
   "execution_count": 11,
   "metadata": {},
   "outputs": [
    {
     "name": "stdout",
     "output_type": "stream",
     "text": [
      "=== RESULTS ===\n",
      "Average memory usage: 0.20 MB\n",
      "Standard deviation of memory usage: 0.0038 MB\n",
      "===============\n",
      "Average time usage: 0.0383 s\n",
      "Standard deviation of time usage: 0.0049 s\n",
      "===============\n",
      "Average length of the path: 121\n"
     ]
    }
   ],
   "source": [
    "from depth_first_search import depth_first_search as dfs\n",
    "import tracemalloc\n",
    "import numpy as np\n",
    "import time\n",
    "\n",
    "# Number of iterations for the measurements\n",
    "num_iterations = 100\n",
    "memory_usages = []\n",
    "time_usages = []\n",
    "nodes_lengths = []\n",
    "\n",
    "for _ in range(num_iterations):\n",
    "    # Start time measurement\n",
    "    start_time = time.time()\n",
    "    # Start tracemalloc\n",
    "    tracemalloc.start()\n",
    "    # Run the search algorithm\n",
    "    last_node = dfs(problem=problem_hanoi, verbose=False)\n",
    "    # Append the length of the path to the list\n",
    "    nodes_lengths.append(last_node.state.accumulated_cost)\n",
    "    # Get the peak memory usage for this run\n",
    "    _, peak_memory = tracemalloc.get_traced_memory()\n",
    "    # Append the peak memory usage to the list\n",
    "    memory_usages.append(peak_memory)\n",
    "    # Stop tracemalloc\n",
    "    tracemalloc.stop()\n",
    "    # stop time measurement\n",
    "    end_time = time.time()\n",
    "    # Append the time usage to the list\n",
    "    time_usages.append(end_time - start_time)\n",
    "\n",
    "# Convert memory usage to MB for readability\n",
    "memory_usages_mb = [usage / (1024 * 1024) for usage in memory_usages]\n",
    "\n",
    "# Calculate average and standard deviation for time\n",
    "average_time_usage = np.mean(time_usages)\n",
    "std_dev_time_usage = np.std(time_usages)\n",
    "# Calculate average and standard deviation for memory\n",
    "average_memory_usage = np.mean(memory_usages_mb)\n",
    "std_dev_memory_usage = np.std(memory_usages_mb)\n",
    "# Calculate average and standard deviation for the length of the path\n",
    "average_node_length = np.mean(nodes_lengths)\n",
    "\n",
    "print(\"=== RESULTS ===\")\n",
    "print(f\"Average memory usage: {average_memory_usage:.2f} MB\")\n",
    "print(f\"Standard deviation of memory usage: {std_dev_memory_usage:.4f} MB\")\n",
    "print(\"=\"*15)\n",
    "print(f\"Average time usage: {average_time_usage:.4f} s\")\n",
    "print(f\"Standard deviation of time usage: {std_dev_time_usage:.4f} s\")\n",
    "print(\"=\"*15)\n",
    "print(f\"Average length of the path: {int(average_node_length)}\")"
   ]
  },
  {
   "cell_type": "markdown",
   "metadata": {},
   "source": [
    "### Generate the simulation data"
   ]
  },
  {
   "cell_type": "code",
   "execution_count": 49,
   "metadata": {},
   "outputs": [],
   "source": [
    "solution.generate_solution_for_simulator()"
   ]
  },
  {
   "cell_type": "code",
   "execution_count": 50,
   "metadata": {},
   "outputs": [],
   "source": [
    "%%bash\n",
    "mv initial_state.json hanoi_tower/simulator/initial_state.json\n",
    "mv sequence.json hanoi_tower/simulator/sequence.json"
   ]
  },
  {
   "cell_type": "code",
   "execution_count": null,
   "metadata": {},
   "outputs": [],
   "source": []
  }
 ],
 "metadata": {
  "kernelspec": {
   "display_name": "myEnv",
   "language": "python",
   "name": "python3"
  },
  "language_info": {
   "codemirror_mode": {
    "name": "ipython",
    "version": 3
   },
   "file_extension": ".py",
   "mimetype": "text/x-python",
   "name": "python",
   "nbconvert_exporter": "python",
   "pygments_lexer": "ipython3",
   "version": "3.12.2"
  }
 },
 "nbformat": 4,
 "nbformat_minor": 2
}
